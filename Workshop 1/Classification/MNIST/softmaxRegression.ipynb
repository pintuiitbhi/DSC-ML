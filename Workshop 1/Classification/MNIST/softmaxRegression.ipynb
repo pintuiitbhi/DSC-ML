{
 "cells": [
  {
   "cell_type": "markdown",
   "metadata": {},
   "source": [
    "# Softmax Regression on MNIST"
   ]
  },
  {
   "cell_type": "markdown",
   "metadata": {},
   "source": [
    "## 1. Import Modules, Define Constants and Initialize Notebook\n",
    "<a id=\"1\"></a>"
   ]
  },
  {
   "cell_type": "code",
   "execution_count": null,
   "metadata": {},
   "outputs": [],
   "source": [
    "from copy import deepcopy\n",
    "\n",
    "import numpy as np\n",
    "import pandas as pd\n",
    "import matplotlib.pyplot as plt\n",
    "\n",
    "from sklearn.linear_model import SGDClassifier\n",
    "from sklearn.metrics import accuracy_score\n",
    "\n",
    "%matplotlib inline"
   ]
  },
  {
   "cell_type": "markdown",
   "metadata": {},
   "source": [
    "## 2. Import and Clean Data\n",
    "<a id=\"2\"></a>"
   ]
  },
  {
   "cell_type": "code",
   "execution_count": null,
   "metadata": {},
   "outputs": [],
   "source": [
    "# Read the file:\n",
    "fileTrain, fileTest = \"./mnist_train.csv\", \"./mnist_test.csv\"\n",
    "datasetTrain = pd.read_csv(fileTrain)\n",
    "datasetTest = pd.read_csv(fileTest)"
   ]
  },
  {
   "cell_type": "markdown",
   "metadata": {},
   "source": [
    "###### Let us look into the dataset"
   ]
  },
  {
   "cell_type": "code",
   "execution_count": null,
   "metadata": {},
   "outputs": [],
   "source": [
    "print(\"Training Data:-\\n\")\n",
    "datasetTrain.info()\n",
    "datasetTrain.head()"
   ]
  },
  {
   "cell_type": "code",
   "execution_count": null,
   "metadata": {},
   "outputs": [],
   "source": [
    "print(\"\\nTesting Data:-\\n\")\n",
    "datasetTest.info()\n",
    "datasetTest.head()"
   ]
  },
  {
   "cell_type": "markdown",
   "metadata": {},
   "source": [
    "###### In the below cell, we will seperate out features and label from training data and test data."
   ]
  },
  {
   "cell_type": "code",
   "execution_count": null,
   "metadata": {},
   "outputs": [],
   "source": [
    "xTrain = datasetTrain.drop(['label'], axis=1).values\n",
    "yTrain = datasetTrain['label'].values\n",
    "\n",
    "xTest = datasetTest.drop(['label'], axis=1).values\n",
    "yTest = datasetTest['label'].values"
   ]
  },
  {
   "cell_type": "markdown",
   "metadata": {},
   "source": [
    "###### Let us plot an image from training data and print its label."
   ]
  },
  {
   "cell_type": "code",
   "execution_count": null,
   "metadata": {},
   "outputs": [],
   "source": [
    "plt.imshow(xTrain[5].reshape(28, 28), cmap='gray')\n",
    "print(\"Label:\", yTrain[5])"
   ]
  },
  {
   "cell_type": "markdown",
   "metadata": {},
   "source": [
    "## 3 Preprocessing Data\n",
    "<a id=\"3\"></a>"
   ]
  },
  {
   "cell_type": "markdown",
   "metadata": {},
   "source": [
    "###### Transform each feature into the range of \\[-1, 1\\], for both training and testing data"
   ]
  },
  {
   "cell_type": "code",
   "execution_count": null,
   "metadata": {},
   "outputs": [],
   "source": [
    "xTrain = xTrain/128 - 1\n",
    "\n",
    "xTest = xTest/128 - 1"
   ]
  },
  {
   "cell_type": "markdown",
   "metadata": {},
   "source": [
    "## 4 Training\n",
    "<a id=\"4\"></a>"
   ]
  },
  {
   "cell_type": "code",
   "execution_count": null,
   "metadata": {
    "scrolled": true
   },
   "outputs": [],
   "source": [
    "modelName, model = \"Softmax Regression\", SGDClassifier(loss='log', learning_rate='invscaling',\n",
    "                                                       eta0=0.001, max_iter=20, verbose=1)\n",
    "\n",
    "model.fit(xTrain, yTrain)"
   ]
  },
  {
   "cell_type": "markdown",
   "metadata": {},
   "source": [
    "## 5 Testing\n",
    "<a id=\"5\"></a>"
   ]
  },
  {
   "cell_type": "code",
   "execution_count": null,
   "metadata": {},
   "outputs": [],
   "source": [
    "predictions = model.predict(xTest)\n",
    "print(\"Accuracy of\", modelName, \"on Test Data:\", accuracy_score(yTest, predictions)*100, \"%\")"
   ]
  },
  {
   "cell_type": "code",
   "execution_count": null,
   "metadata": {},
   "outputs": [],
   "source": [
    "plt.imshow(xTest[0].reshape(28, 28), cmap='gray')\n",
    "print(\"Predicted Label:\", predictions[0])"
   ]
  },
  {
   "cell_type": "markdown",
   "metadata": {},
   "source": [
    "## 6 Visualization\n",
    "<a id=\"6\"></a>"
   ]
  },
  {
   "cell_type": "code",
   "execution_count": null,
   "metadata": {},
   "outputs": [],
   "source": [
    "weights = model.coef_\n",
    "\n",
    "fig, axes = plt.subplots(2, 5, figsize=(15, 8))\n",
    "plt.suptitle(\"Weights Learned by {}\".format(modelName))\n",
    "cax = fig.add_axes([0.27, 0.92, 0.5, 0.03])\n",
    "\n",
    "for digit in range(10):\n",
    "    ax = axes[digit//5, digit%5]\n",
    "    weight = deepcopy(weights[digit]);\n",
    "    im = ax.imshow(weight.reshape(28, 28), cmap=plt.get_cmap('coolwarm'))\n",
    "    ax.set_title(\"Digit {} vs Rest\".format(digit))\n",
    "    ax.set_xticks(())\n",
    "    ax.set_yticks(())\n",
    "\n",
    "fig.colorbar(im, cax=cax, orientation='horizontal')\n",
    "plt.show()"
   ]
  },
  {
   "cell_type": "code",
   "execution_count": null,
   "metadata": {},
   "outputs": [],
   "source": []
  }
 ],
 "metadata": {
  "kernelspec": {
   "display_name": "Python 3",
   "language": "python",
   "name": "python3"
  },
  "language_info": {
   "codemirror_mode": {
    "name": "ipython",
    "version": 3
   },
   "file_extension": ".py",
   "mimetype": "text/x-python",
   "name": "python",
   "nbconvert_exporter": "python",
   "pygments_lexer": "ipython3",
   "version": "3.6.7"
  }
 },
 "nbformat": 4,
 "nbformat_minor": 2
}
