{
 "cells": [
  {
   "cell_type": "markdown",
   "metadata": {},
   "source": [
    "# Introduction to Python\n",
    "## *To get started with Machine Learning*\n",
    "---\n",
    "Anees Ahmed <br>\n",
    "*Developer Student Club, IIT Bhilai*\n",
    "\n",
    "---\n",
    "."
   ]
  },
  {
   "cell_type": "markdown",
   "metadata": {},
   "source": [
    "## Whitespace matters in Python source code\n",
    "\n",
    "Spaces, Tabs and Newlines must be used carefully in the source code because they mean something in Python.\n",
    "\n",
    "e.g. This code...\n",
    "```\n",
    "def check_password(password):\n",
    "    if hash(password) == get_correct_hash():\n",
    "        return True\n",
    "    else:\n",
    "        return False\n",
    "```\n",
    "...cannot be typed like this...\n",
    "```\n",
    "def check_password(password):\n",
    "     if hash(password) == get_correct_hash():\n",
    "            return True\n",
    "   else:\n",
    "         return False\n",
    "```"
   ]
  },
  {
   "cell_type": "markdown",
   "metadata": {},
   "source": [
    "## How to use Jupyter Notebook code boxes\n",
    "\n",
    "1. Type the code to be executed in a code box.\n",
    "1. Pressing <kbd>Enter</kbd> in a code box will add a new line to type more code.\n",
    "1. Pressing <kbd>Shift+Enter</kbd> in a code box will execute the code.\n",
    "1. You can add and remove code boxes."
   ]
  },
  {
   "cell_type": "markdown",
   "metadata": {},
   "source": [
    "## Interpreter as a Calculator\n",
    "\n",
    "Try the following expressions in the code box below:\n",
    "+ `2+2`\n",
    "+ `5*3-20`\n",
    "+ `5/2`\n",
    "+ `5//2`\n",
    "+ `2**3`\n",
    "+ `15%4`"
   ]
  },
  {
   "cell_type": "code",
   "execution_count": null,
   "metadata": {},
   "outputs": [],
   "source": [
    "# Type code here and press [Shift]+[Enter] to execute"
   ]
  },
  {
   "cell_type": "markdown",
   "metadata": {},
   "source": [
    "## Printing\n",
    "\n",
    "To write something on the screen, you use `print()` function.\n",
    "\n",
    "Try these print function examples:\n",
    "+ `print('Hello World')`\n",
    "+ `print('Coding in Python')`\n",
    "+ `print('Coding', 'in', 'Python')`\n",
    "+ `print('2 + 3 =', 2+3)`\n",
    "+ `print('I\\'ll keep that in mind')`\n",
    "+ `print('Hello\\nWorld')`"
   ]
  },
  {
   "cell_type": "code",
   "execution_count": null,
   "metadata": {},
   "outputs": [],
   "source": []
  },
  {
   "cell_type": "markdown",
   "metadata": {},
   "source": [
    "## Variables\n",
    "\n",
    "+ `x = 5`\n",
    "+ `print(x)`\n",
    "+ `num = 5 * (3 + 4)`\n",
    "+ `num = num + 5`\n",
    "+ `x = num // 2`\n",
    "+ `first_name = 'John'`\n",
    "+ `last_name = 'Smith'`\n",
    "+ `full_name = first_name + last_name`\n",
    "+ `first_name = 'Will'`\n",
    "+ `first_name = 4`"
   ]
  },
  {
   "cell_type": "code",
   "execution_count": null,
   "metadata": {},
   "outputs": [],
   "source": []
  },
  {
   "cell_type": "markdown",
   "metadata": {},
   "source": [
    "## Reading\n",
    "\n",
    "+ `input()`\n",
    "+ `string = input()`\n",
    "+ `num = int(input())`\n",
    "+ `real_num = float(input())`"
   ]
  },
  {
   "cell_type": "code",
   "execution_count": null,
   "metadata": {},
   "outputs": [],
   "source": []
  },
  {
   "cell_type": "markdown",
   "metadata": {},
   "source": [
    "## Data Types\n",
    "\n",
    "+ Integers : `int`\n",
    "+ Real Numbers : `float`\n",
    "+ Complex : `complex`\n",
    "+ Strings : `str`\n",
    "+ Lists : `list`\n",
    "+ Tuples : `tuple`\n",
    "+ Dictionaries : `dict`\n",
    "+ Sets : `set`\n",
    "+ Boolean : `bool`\n",
    "\n"
   ]
  },
  {
   "cell_type": "code",
   "execution_count": null,
   "metadata": {},
   "outputs": [],
   "source": []
  },
  {
   "cell_type": "markdown",
   "metadata": {},
   "source": [
    "## Check the Data Type of Variable\n",
    "\n",
    "Use the `type()` function.\n",
    "\n",
    "+ `type(3)`\n",
    "+ `type(3.14)`\n",
    "+ `type(5+3j)`\n",
    "+ `type(True)`\n",
    "+ `type('John')`"
   ]
  },
  {
   "cell_type": "code",
   "execution_count": null,
   "metadata": {},
   "outputs": [],
   "source": []
  },
  {
   "cell_type": "markdown",
   "metadata": {},
   "source": [
    "## Strings\n",
    "\n",
    "A string is a sequence of characters.\n",
    "\n",
    "Syntax for declaring a string: <br>\n",
    "\n",
    "    mystring = 'Python'"
   ]
  },
  {
   "cell_type": "code",
   "execution_count": null,
   "metadata": {},
   "outputs": [],
   "source": []
  },
  {
   "cell_type": "markdown",
   "metadata": {},
   "source": [
    "To get the length (number of characters) of a string, use `len()` function:\n",
    "\n",
    "    length_of_mystring = len(mystring)"
   ]
  },
  {
   "cell_type": "code",
   "execution_count": null,
   "metadata": {},
   "outputs": [],
   "source": []
  },
  {
   "cell_type": "markdown",
   "metadata": {},
   "source": [
    "In a string, every character has an index:\n",
    "\n",
    "    P y t h o n\n",
    "    0 1 2 3 4 5\n",
    "    \n",
    "To access the character at index $n$ in the string, use `[]` operator:\n",
    "\n",
    "    mystring[n]\n",
    "    \n",
    "where $0 ≤ n < \\texttt{len}(\\texttt{mystring})$.\n",
    "\n",
    "e.g.\n",
    "+ `mystring[0]` will give `P`\n",
    "+ `mystring[4]` will give `o`"
   ]
  },
  {
   "cell_type": "code",
   "execution_count": null,
   "metadata": {},
   "outputs": [],
   "source": []
  },
  {
   "cell_type": "markdown",
   "metadata": {},
   "source": [
    "In a string, every character has a negative index too:\n",
    "\n",
    "     P  y  t  h  o  n\n",
    "    -6 -5 -4 -3 -2 -1\n",
    "    \n",
    "To access the character at index $-n$ in the string, use:\n",
    "\n",
    "    mystring[-n]\n",
    "    \n",
    "where $1 ≤ n ≤ \\texttt{len}(\\texttt{mystring})$.\n",
    "\n",
    "e.g.\n",
    "+ `mystring[-1]` will give `n`\n",
    "+ `mystring[-5]` will give `y`"
   ]
  },
  {
   "cell_type": "code",
   "execution_count": null,
   "metadata": {},
   "outputs": [],
   "source": []
  },
  {
   "cell_type": "markdown",
   "metadata": {},
   "source": [
    "Python also provides a way to access a continuous sequence of characters at a time.\n",
    "\n",
    "To access the characters at all indices $n$ such that $i ≤ n < j$ for some integers $i$ and $j$, use:\n",
    "\n",
    "    mystring[i:j]\n",
    "    \n",
    "e.g.\n",
    "+ `mystring[1:5]` gives `'ytho'`\n",
    "+ `mystring[2:4]` gives `'th'`\n",
    "\n",
    "If either $i$ or $j$ is missing, then it is assumed that all the characters in that direction are requested.\n",
    "\n",
    "e.g.\n",
    "+ `mystring[2:]` gives `'thon'`\n",
    "+ `mystring[:4]` gives `'Pyth'`"
   ]
  },
  {
   "cell_type": "code",
   "execution_count": null,
   "metadata": {},
   "outputs": [],
   "source": []
  },
  {
   "cell_type": "markdown",
   "metadata": {},
   "source": [
    "#### Problem A1\n",
    "\n",
    "Given a string `s`, create a new string which only contains the characters at index 2,3,4 of `s`.\n",
    "\n",
    "e.g. Given `'Python'`, create `'tho'`."
   ]
  },
  {
   "cell_type": "code",
   "execution_count": null,
   "metadata": {},
   "outputs": [],
   "source": [
    "s = 'Python'\n",
    "s_new = ## Type here ##\n",
    "print(s_new)"
   ]
  },
  {
   "cell_type": "markdown",
   "metadata": {},
   "source": [
    "#### Problem A2\n",
    "\n",
    "Given a string `s`, create a new string which is identical to `s` except that the characters at index 2,3,4 of `s` are rejected (not included in the new string).\n",
    "\n",
    "e.g. Given `'Python'`, create `'Pyn'`."
   ]
  },
  {
   "cell_type": "code",
   "execution_count": null,
   "metadata": {},
   "outputs": [],
   "source": []
  },
  {
   "cell_type": "markdown",
   "metadata": {},
   "source": [
    "#### Problem A3\n",
    "\n",
    "Problem\n",
    "Given a string `s`, create a new string which only contains the last 3 characters of `s`.\n",
    "`s` can contain any number of characters.\n",
    "\n",
    "e.g. Given `'Python'`, create `'hon'`."
   ]
  },
  {
   "cell_type": "code",
   "execution_count": null,
   "metadata": {},
   "outputs": [],
   "source": []
  },
  {
   "cell_type": "markdown",
   "metadata": {},
   "source": [
    "## Lists\n",
    "\n",
    "+ A collection of objects\n",
    "+ Objects are allowed to be of different data types\n",
    "+ Ordered\n",
    "+ Indexed\n",
    "+ Can be modified after creation\n",
    "+ Duplicate members allowed"
   ]
  },
  {
   "cell_type": "markdown",
   "metadata": {},
   "source": [
    "Syntax for declaring a string: <br>\n",
    "\n",
    "    mylist = ['apple', 'banana', 'cherry', 'donut', 'egg-roll', 'french-fries']"
   ]
  },
  {
   "cell_type": "code",
   "execution_count": null,
   "metadata": {},
   "outputs": [],
   "source": []
  },
  {
   "cell_type": "markdown",
   "metadata": {},
   "source": [
    "A list of non-negative single-digit even integers:\n",
    "\n",
    "    li = [0, 2, 4, 6, 8]\n",
    "    \n",
    "A list of lists:\n",
    "    \n",
    "    li = [[1,2,3], [4,5,6], [7,8,9]]\n",
    "    \n",
    "A list of different data types:\n",
    "\n",
    "    li = ['some string', [1,2,3,4], 3.14159, 77]"
   ]
  },
  {
   "cell_type": "code",
   "execution_count": null,
   "metadata": {},
   "outputs": [],
   "source": []
  },
  {
   "cell_type": "markdown",
   "metadata": {},
   "source": [
    "To get the length (number of objects) of a list, use `len()` function:\n",
    "\n",
    "    size_of_mylist = len(mylist)"
   ]
  },
  {
   "cell_type": "code",
   "execution_count": null,
   "metadata": {},
   "outputs": [],
   "source": []
  },
  {
   "cell_type": "markdown",
   "metadata": {},
   "source": [
    "In a list, every object has an index:\n",
    "\n",
    "    mylist = ['apple', 'banana', 'cherry', 'donut', 'egg-roll', 'french-fries']\n",
    "                 0        1          2        3         4              5\n",
    "\n",
    "This is just like the indexing of characters in a Python string."
   ]
  },
  {
   "cell_type": "markdown",
   "metadata": {},
   "source": [
    "Just like the `[]` operator is used in a variety of ways to access the characters in a string, this same operator is used to access the objects in a list.\n",
    "\n",
    "The syntax for lists is identical to that for strings.\n",
    "\n",
    "e.g.\n",
    "+ `mylist[0]` will give `'apple'`\n",
    "+ `mylist[4]` will give `'egg-roll'`\n",
    "+ `mylist[-2]` will give `'egg-roll'`\n",
    "+ `mylist[-5]` will give `'banana'`\n",
    "+ `mylist[1:5]` will give `['banana', 'cherry', 'donut', 'egg-roll']`\n",
    "+ `mylist[2:4]` will give `['cherry', 'donut']`\n",
    "+ `mylist[2:]` will give `['cherry', 'donut', 'egg-roll', 'french-fries']`\n",
    "+ `mylist[:4]` will give `['apple', 'banana', 'cherry', 'donut']`"
   ]
  },
  {
   "cell_type": "code",
   "execution_count": null,
   "metadata": {},
   "outputs": [],
   "source": []
  },
  {
   "cell_type": "markdown",
   "metadata": {},
   "source": [
    "#### Inserting an object at the end:\n",
    "\t\n",
    "    mylist.append(object)"
   ]
  },
  {
   "cell_type": "code",
   "execution_count": null,
   "metadata": {},
   "outputs": [],
   "source": [
    "mylist = ['apple', 'banana', 'cherry', 'donut', 'egg-roll', 'french-fries']\n",
    "mylist.append('grapes')\n",
    "print(mylist)"
   ]
  },
  {
   "cell_type": "markdown",
   "metadata": {},
   "source": [
    "#### Inserting an object at desired index:\n",
    "\n",
    "\tmylist.insert(index, object)\n"
   ]
  },
  {
   "cell_type": "code",
   "execution_count": null,
   "metadata": {},
   "outputs": [],
   "source": [
    "mylist = ['apple', 'banana', 'cherry', 'donut', 'egg-roll', 'french-fries']\n",
    "mylist.insert(2, 'orange')\n",
    "print(mylist)"
   ]
  },
  {
   "cell_type": "markdown",
   "metadata": {},
   "source": [
    "#### Removing the object at the end:\n",
    "\n",
    "\tmylist.pop()"
   ]
  },
  {
   "cell_type": "code",
   "execution_count": null,
   "metadata": {},
   "outputs": [],
   "source": [
    "mylist = ['apple', 'banana', 'cherry', 'donut', 'egg-roll', 'french-fries']\n",
    "mylist.pop()\n",
    "print(mylist)"
   ]
  },
  {
   "cell_type": "markdown",
   "metadata": {},
   "source": [
    "#### Removing an object at desired index:\n",
    "\n",
    "\tmylist.pop(index)"
   ]
  },
  {
   "cell_type": "code",
   "execution_count": null,
   "metadata": {},
   "outputs": [],
   "source": [
    "mylist = ['apple', 'banana', 'cherry', 'donut', 'egg-roll', 'french-fries']\n",
    "mylist.pop(1)\n",
    "print(mylist)"
   ]
  },
  {
   "cell_type": "markdown",
   "metadata": {},
   "source": [
    "#### Replacing an object with another at desired index:\n",
    "\n",
    "\tmylist[index] = new_object"
   ]
  },
  {
   "cell_type": "code",
   "execution_count": null,
   "metadata": {},
   "outputs": [],
   "source": [
    "mylist = ['apple', 'banana', 'cherry', 'donut', 'egg-roll', 'french-fries']\n",
    "mylist[1] = 'orange'\n",
    "print(mylist)"
   ]
  },
  {
   "cell_type": "markdown",
   "metadata": {},
   "source": [
    "#### Reverseing the whole list:\n",
    "\n",
    "\tmylist.reverse()"
   ]
  },
  {
   "cell_type": "code",
   "execution_count": null,
   "metadata": {},
   "outputs": [],
   "source": [
    "mylist = ['apple', 'banana', 'cherry', 'donut', 'egg-roll', 'french-fries']\n",
    "mylist.reverse()\n",
    "print(mylist)"
   ]
  },
  {
   "cell_type": "markdown",
   "metadata": {},
   "source": [
    "#### Sorting the whole list:\n",
    "\n",
    "\tmylist.sort()"
   ]
  },
  {
   "cell_type": "code",
   "execution_count": null,
   "metadata": {},
   "outputs": [],
   "source": [
    "mylist = ['apple', 'french-fries', 'cherry', 'donut', 'banana', 'egg-roll']\n",
    "mylist.sort()\n",
    "print(mylist)"
   ]
  },
  {
   "cell_type": "markdown",
   "metadata": {},
   "source": [
    "#### Making the whole list empty:\n",
    "\n",
    "\tmylist.clear()"
   ]
  },
  {
   "cell_type": "code",
   "execution_count": null,
   "metadata": {},
   "outputs": [],
   "source": [
    "mylist = ['apple', 'french-fries', 'cherry', 'donut', 'banana', 'egg-roll']\n",
    "mylist.clear()\n",
    "print(mylist)"
   ]
  },
  {
   "cell_type": "markdown",
   "metadata": {},
   "source": [
    "#### Problem B1\n",
    "\n",
    "Given a list li, create a new list which is identical to li except that the last 4 objects are in reverse order of how they were in li.\n",
    "\n",
    "e.g. Given [4,9,3,7,2,5], create [4,9,5,2,7,3]."
   ]
  },
  {
   "cell_type": "code",
   "execution_count": null,
   "metadata": {},
   "outputs": [],
   "source": []
  },
  {
   "cell_type": "markdown",
   "metadata": {},
   "source": [
    "#### Problem B2\n",
    "\n",
    "Given a list li, sort it in descending order.\n",
    "\n",
    "e.g. Given [2,0,6,4], create [6,4,2,0]."
   ]
  },
  {
   "cell_type": "code",
   "execution_count": null,
   "metadata": {},
   "outputs": [],
   "source": []
  },
  {
   "cell_type": "markdown",
   "metadata": {},
   "source": [
    "## Tuples\n",
    "\n",
    "+ A collection of objects\n",
    "+ Objects are allowed to be of different data types\n",
    "+ Ordered\n",
    "+ Indexed\n",
    "+ Can NOT be modified after creation\n",
    "+ Duplicate members allowed"
   ]
  },
  {
   "cell_type": "markdown",
   "metadata": {},
   "source": [
    "Syntax for declaring a tuple: <br>\n",
    "\n",
    "    mytuple = ('apple', 'banana', 'cherry', 'donut')"
   ]
  },
  {
   "cell_type": "code",
   "execution_count": null,
   "metadata": {},
   "outputs": [],
   "source": []
  },
  {
   "cell_type": "markdown",
   "metadata": {},
   "source": [
    "To get the length (number of objects) of a tuple, use `len()` function:\n",
    "\n",
    "    size_of_mytuple = len(mytuple)"
   ]
  },
  {
   "cell_type": "code",
   "execution_count": null,
   "metadata": {},
   "outputs": [],
   "source": []
  },
  {
   "cell_type": "markdown",
   "metadata": {},
   "source": [
    "In a tuple, every object has an index:\n",
    "\n",
    "    mytuple = ('apple', 'banana', 'cherry', 'donut', 'egg-roll', 'french-fries')\n",
    "                 0        1          2        3         4              5\n",
    "\n",
    "This is just like the indexing in a list and string."
   ]
  },
  {
   "cell_type": "markdown",
   "metadata": {},
   "source": [
    "The operator `[]` is used to access the objects in a tuple, just like in string and list.\n",
    "\n",
    "The syntax for tuples is identical to that for strings and lists.\n",
    "\n",
    "e.g.\n",
    "+ `mytuple[0]` will give `'apple'`\n",
    "+ `mytuple[4]` will give `'egg-roll'`\n",
    "+ `mytuple[-1]` will give `'french-fries'`\n",
    "+ `mytuple[-5]` will give `'banana'`\n",
    "+ `mytuple[1:5]` will give `('banana', 'cherry', 'donut', 'egg-roll')`\n",
    "+ `mytuple[2:4]` will give `('cherry', 'donut')`\n",
    "+ `mytuple[2:]` will give `('cherry', 'donut', 'egg-roll', 'french-fries')`\n",
    "+ `mytuple[:4]` will give `('apple', 'banana', 'cherry', 'donut')`"
   ]
  },
  {
   "cell_type": "code",
   "execution_count": null,
   "metadata": {},
   "outputs": [],
   "source": []
  },
  {
   "cell_type": "markdown",
   "metadata": {},
   "source": [
    "#### Assigning multiple variables some values in a single line:\n",
    "\n",
    "    (var1, var2, var3) = (22, 33, 44)"
   ]
  },
  {
   "cell_type": "code",
   "execution_count": null,
   "metadata": {},
   "outputs": [],
   "source": []
  },
  {
   "cell_type": "markdown",
   "metadata": {},
   "source": [
    "#### Problem C1\n",
    "\n",
    "Given two variables x and y, swap their values in one line of code."
   ]
  },
  {
   "cell_type": "code",
   "execution_count": null,
   "metadata": {},
   "outputs": [],
   "source": []
  },
  {
   "cell_type": "markdown",
   "metadata": {},
   "source": [
    "## Dictionaries\n",
    "\n",
    "+ A collection of objects\n",
    "+ Stored as Key-Value pairs\n",
    "+ Objects are allowed to be of different data types\n",
    "+ NOT Ordered\n",
    "+ Indexed (Keyed, technically)\n",
    "+ Can be modified after creation\n",
    "+ Duplicate values allowed\n",
    "+ Duplicate keys NOT allowed"
   ]
  },
  {
   "cell_type": "markdown",
   "metadata": {},
   "source": [
    "Syntax for declaring a dictionary: <br>\n",
    "\n",
    "    mydict = {key1:value1, key2:value2, key3:value3}"
   ]
  },
  {
   "cell_type": "markdown",
   "metadata": {},
   "source": [
    "A dictionary to map the string names to numbers:\n",
    "\n",
    "    mydict = {'one': 1, 'two': 2, 'five': 5}\n",
    "    \n",
    "A dictionary to map the numbers to string names:\n",
    "\n",
    "    mydict = {1: 'one', 2: 'two', 5: 'five'}\n",
    "\n",
    "A dictionary to store the details of a car:\n",
    "\n",
    "    mydict =\t{\n",
    "        'brand': 'Ford',\n",
    "        'model': 'Mustang',\n",
    "        'year': 1964\n",
    "    }"
   ]
  },
  {
   "cell_type": "code",
   "execution_count": null,
   "metadata": {},
   "outputs": [],
   "source": []
  },
  {
   "cell_type": "markdown",
   "metadata": {},
   "source": [
    "To get the size (number of key-value pairs) of a dictionary, use `len()` function:\n",
    "\n",
    "    size_of_mydict = len(mydict)"
   ]
  },
  {
   "cell_type": "code",
   "execution_count": null,
   "metadata": {},
   "outputs": [],
   "source": []
  },
  {
   "cell_type": "markdown",
   "metadata": {},
   "source": [
    "    mydict = {'one': 'ek', 'two': 'do', 'three': 'teen'}\n",
    "\n",
    "In a dictionary, every value has a key:\n",
    "\n",
    "    'one'   'two'   'three'\n",
    "    'ek'    'do'    'teen'\n",
    "    \n",
    "This is called **Mapping** some keys to some values.\n",
    "\n",
    "    'one' --> 'ek'\n",
    "    'two' --> 'do'\n",
    "    'three' --> 'teen'\n",
    "\n",
    "This is different from the indexing of string, list or tuple."
   ]
  },
  {
   "cell_type": "code",
   "execution_count": null,
   "metadata": {},
   "outputs": [],
   "source": []
  },
  {
   "cell_type": "markdown",
   "metadata": {},
   "source": [
    "To access the character at key $k$ in the dictionary, use `[]` operator:\n",
    "\n",
    "    mydict[k]\n",
    "\n",
    "e.g. `mydict['two']` will give `'do'`"
   ]
  },
  {
   "cell_type": "code",
   "execution_count": null,
   "metadata": {},
   "outputs": [],
   "source": []
  },
  {
   "cell_type": "markdown",
   "metadata": {},
   "source": [
    "#### Inserting an object by assigning to a new key:\n",
    "\n",
    "\tmydict[key] = object"
   ]
  },
  {
   "cell_type": "code",
   "execution_count": null,
   "metadata": {},
   "outputs": [],
   "source": [
    "mydict = {'one': 1, 'two': 2, 'five': 5, 'hundred': 100}\n",
    "mydict['ten'] = 10\n",
    "print(mydict)"
   ]
  },
  {
   "cell_type": "markdown",
   "metadata": {},
   "source": [
    "#### Replacing an object assigned to a key with another:\n",
    "\n",
    "\tmydict[key] = new_object"
   ]
  },
  {
   "cell_type": "code",
   "execution_count": null,
   "metadata": {},
   "outputs": [],
   "source": [
    "mydict = {'one': 1, 'two': 2, 'five': 5, 'hundred': 100}\n",
    "mydict['five'] = 555\n",
    "print(mydict)"
   ]
  },
  {
   "cell_type": "markdown",
   "metadata": {},
   "source": [
    "#### Removing an object (and the key it is assigned to):\n",
    "\n",
    "\tmydict.pop(key)"
   ]
  },
  {
   "cell_type": "code",
   "execution_count": null,
   "metadata": {},
   "outputs": [],
   "source": [
    "mydict = {'one': 1, 'two': 2, 'five': 5, 'hundred': 100}\n",
    "mydict.pop('two')\n",
    "print(mydict)"
   ]
  },
  {
   "cell_type": "markdown",
   "metadata": {},
   "source": [
    "#### Making the whole dictionary empty:\n",
    "\n",
    "\tmydict.clear()"
   ]
  },
  {
   "cell_type": "code",
   "execution_count": null,
   "metadata": {},
   "outputs": [],
   "source": [
    "mydict = {'one': 1, 'two': 2, 'five': 5, 'hundred': 100}\n",
    "mydict.clear()\n",
    "print(mydict)"
   ]
  },
  {
   "cell_type": "markdown",
   "metadata": {},
   "source": [
    "#### Get a list of all keys:\n",
    "\n",
    "\tkeys = mydict.keys()"
   ]
  },
  {
   "cell_type": "code",
   "execution_count": null,
   "metadata": {},
   "outputs": [],
   "source": [
    "mydict = {'one': 1, 'two': 2, 'five': 5, 'hundred': 100}\n",
    "print(mydict.keys())"
   ]
  },
  {
   "cell_type": "markdown",
   "metadata": {},
   "source": [
    "#### Get a list of all values:\n",
    "\n",
    "\tvals = mydict.values()"
   ]
  },
  {
   "cell_type": "code",
   "execution_count": null,
   "metadata": {},
   "outputs": [],
   "source": [
    "mydict = {'one': 1, 'two': 2, 'five': 5, 'hundred': 100}\n",
    "print(mydict.values())"
   ]
  },
  {
   "cell_type": "markdown",
   "metadata": {},
   "source": [
    "#### Get a list of all key-value pairs:\n",
    "\n",
    "\tpairs = mydict.items()"
   ]
  },
  {
   "cell_type": "code",
   "execution_count": null,
   "metadata": {},
   "outputs": [],
   "source": [
    "mydict = {'one': 1, 'two': 2, 'five': 5, 'hundred': 100}\n",
    "print(mydict.items())"
   ]
  },
  {
   "cell_type": "markdown",
   "metadata": {},
   "source": [
    "## Booleans\n",
    "\n",
    "+ Only to values possible:\n",
    "    + True\n",
    "    + False\n",
    "+ Used in conditionals, loops, etc."
   ]
  },
  {
   "cell_type": "markdown",
   "metadata": {},
   "source": [
    "#### Try these Boolean Expressions in the code box:\n",
    "\n",
    "+ `2 == 2`\n",
    "+ `2 != 2`\n",
    "+ `2 == 3`\n",
    "+ `2 != 3`\n",
    "+ `5 > 3`\n",
    "+ `5 < 3`\n",
    "+ `7 > 7`\n",
    "+ `7 >= 7`\n",
    "+ `not True`\n",
    "+ `True and True`\n",
    "+ `True and False`\n",
    "+ `False and False`\n",
    "+ `True or True`\n",
    "+ `True and False`\n",
    "+ `False or False`\n",
    "+ `not (2==2 and 3>1)`"
   ]
  },
  {
   "cell_type": "code",
   "execution_count": null,
   "metadata": {},
   "outputs": [],
   "source": []
  },
  {
   "cell_type": "markdown",
   "metadata": {},
   "source": [
    "## Type Casting\n",
    "\n",
    "Converting from one data type to another data type is called Type Casting."
   ]
  },
  {
   "cell_type": "markdown",
   "metadata": {},
   "source": [
    "#### Try these examples in the code box:\n",
    "\n",
    "+ `float(3)`\n",
    "+ `int(4.5)`\n",
    "+ `str(-2.5e3)`\n",
    "+ `float('-5.5')`\n",
    "+ `'2 added to 5 is ' + 7`\n",
    "+ `'2 added to 5 is ' + str(7)`\n",
    "+ `set([5, 'five', 33.5])`\n",
    "+ `Tuple({2, 5, 6, 8})`\n",
    "+ `list({'I': 1, 'II': 2, 'V': 5})`\n",
    "+ `str(2) + '2'`\n",
    "+ `2 + int('2')`\n",
    "+ `list('This is a sentence.')`\n",
    "+ `bool(5)`\n",
    "+ `bool(0)`\n",
    "+ `bool(-1)`\n",
    "+ `bool([1,2,3])`\n",
    "+ `bool([])`"
   ]
  },
  {
   "cell_type": "code",
   "execution_count": null,
   "metadata": {},
   "outputs": [],
   "source": []
  },
  {
   "cell_type": "markdown",
   "metadata": {},
   "source": [
    "## Mutability\n",
    "\n",
    "+ Mutable data types:\n",
    "    + List\n",
    "    + Dictionary\n",
    "+ Immutable data types:\n",
    "    + Boolean\n",
    "    + Integers, Real numbers, Complex numbers\n",
    "    + Strings\n",
    "    + Tuples"
   ]
  },
  {
   "cell_type": "markdown",
   "metadata": {},
   "source": [
    "#### Immutable data type objects get copied when assigned to another variable\n",
    "\n",
    "Try to understand the following code:"
   ]
  },
  {
   "cell_type": "code",
   "execution_count": null,
   "metadata": {},
   "outputs": [],
   "source": [
    "x1 = 5.5\n",
    "x2 = x1\n",
    "print(x1, x2)\n",
    "x2 = 7.7\n",
    "print(x1, x2)"
   ]
  },
  {
   "cell_type": "markdown",
   "metadata": {},
   "source": [
    "#### Mutable data type objects do NOT get copied when assigned to another variable, instead both variables reference the same object\n",
    "\n",
    "Try to understand the following code:"
   ]
  },
  {
   "cell_type": "code",
   "execution_count": null,
   "metadata": {},
   "outputs": [],
   "source": [
    "x1 = [5, 7, 9]\n",
    "x2 = x1\n",
    "print(x1, x2)\n",
    "x2.append(0)\n",
    "print(x1, x2)"
   ]
  },
  {
   "cell_type": "markdown",
   "metadata": {},
   "source": [
    "#### To create a copy of a mutable data type object, the copying must be done explicitly by the user\n",
    "\n",
    "Try to understand the following code:"
   ]
  },
  {
   "cell_type": "code",
   "execution_count": null,
   "metadata": {},
   "outputs": [],
   "source": [
    "x1 = [5, 7, 9]\n",
    "x2 = x1.copy()\n",
    "print(x1, x2)\n",
    "x2.append(0)\n",
    "print(x1, x2)"
   ]
  },
  {
   "cell_type": "markdown",
   "metadata": {},
   "source": [
    "## Control Flow\n",
    "\n",
    "+ Conditionals\n",
    "    + If\n",
    "    + If Else\n",
    "    + If Elif Elif Elif ... Else\n",
    "+ Loops\n",
    "    + For\n",
    "    + While"
   ]
  },
  {
   "cell_type": "markdown",
   "metadata": {},
   "source": [
    "## If\n",
    "\n",
    "Try to change the values of `a` and `b` in the code box below and observe the effects:"
   ]
  },
  {
   "cell_type": "code",
   "execution_count": null,
   "metadata": {},
   "outputs": [],
   "source": [
    "a = 33\n",
    "b = 200\n",
    "if b > a:\n",
    "    print('b is greater than a')"
   ]
  },
  {
   "cell_type": "markdown",
   "metadata": {},
   "source": [
    "## If Else\n",
    "\n",
    "Try to change the values of `a` and `b` in the code box below and observe the effects:"
   ]
  },
  {
   "cell_type": "code",
   "execution_count": null,
   "metadata": {},
   "outputs": [],
   "source": [
    "a = 33\n",
    "b = 200\n",
    "if b > a:\n",
    "    print('b is greater than a')\n",
    "else:\n",
    "    print('b is NOT greater than a')"
   ]
  },
  {
   "cell_type": "markdown",
   "metadata": {},
   "source": [
    "## If Elif Else\n",
    "\n",
    "Try to change the values of `a` and `b` in the code box below and observe the effects:"
   ]
  },
  {
   "cell_type": "code",
   "execution_count": null,
   "metadata": {},
   "outputs": [],
   "source": [
    "a = 33\n",
    "b = 200\n",
    "if b > a:\n",
    "    print('b is greater than a')\n",
    "elif a == b:\n",
    "    print('a and b are equal')\n",
    "else:\n",
    "    print('a is greater than b')\n"
   ]
  },
  {
   "cell_type": "markdown",
   "metadata": {},
   "source": [
    "#### Problem D1\n",
    "\n",
    "Accept an integer n from user. This n is supposed to be the marks scored in an exam.\n",
    "\n",
    "If n is less than zero or greater than 100, print message INVALID, because those marks are not possible.\n",
    "\n",
    "If n is between zero and 100 however, show whether the student passed or failed by printing a message PASS or FAIL.\n",
    "\n",
    "To pass, a student must score at least 33 marks."
   ]
  },
  {
   "cell_type": "code",
   "execution_count": null,
   "metadata": {},
   "outputs": [],
   "source": []
  },
  {
   "cell_type": "markdown",
   "metadata": {},
   "source": [
    "## For\n",
    "\n",
    "Used to iterate over the objects in any container (list, string, set, dictionary, tuple, etc.) and perform some actions on each object one by one."
   ]
  },
  {
   "cell_type": "markdown",
   "metadata": {},
   "source": [
    "#### Prints each item inside a container\n",
    "\n",
    "    for item in container:\n",
    "        print(item)"
   ]
  },
  {
   "cell_type": "code",
   "execution_count": null,
   "metadata": {},
   "outputs": [],
   "source": [
    "li = [3,5,7,8,9,1]\n",
    "for num in li:\n",
    "    print(num)"
   ]
  },
  {
   "cell_type": "markdown",
   "metadata": {},
   "source": [
    "#### Prints each character of a string 3 times"
   ]
  },
  {
   "cell_type": "code",
   "execution_count": null,
   "metadata": {},
   "outputs": [],
   "source": [
    "string = 'Python'\n",
    "for char in string:\n",
    "    print(char, char, char)"
   ]
  },
  {
   "cell_type": "markdown",
   "metadata": {},
   "source": [
    "#### Prints non-negative integers less than 10"
   ]
  },
  {
   "cell_type": "code",
   "execution_count": null,
   "metadata": {},
   "outputs": [],
   "source": [
    "for i in range(10):\n",
    "    print(i)"
   ]
  },
  {
   "cell_type": "markdown",
   "metadata": {},
   "source": [
    "#### Prints integers larger than 4 but less than 10"
   ]
  },
  {
   "cell_type": "code",
   "execution_count": null,
   "metadata": {},
   "outputs": [],
   "source": [
    "for i in range(5,10):\n",
    "    print(i)"
   ]
  },
  {
   "cell_type": "markdown",
   "metadata": {},
   "source": [
    "#### Prints even positive integers less than 20"
   ]
  },
  {
   "cell_type": "code",
   "execution_count": null,
   "metadata": {},
   "outputs": [],
   "source": [
    "for i in range(2,20,2):\n",
    "    print(i)"
   ]
  },
  {
   "cell_type": "markdown",
   "metadata": {},
   "source": [
    "#### Prints 5 more than every number in a list of numbers"
   ]
  },
  {
   "cell_type": "code",
   "execution_count": null,
   "metadata": {},
   "outputs": [],
   "source": [
    "list_of_numbers = [2,4,5,3]\n",
    "for num in list_of_numbers:\n",
    "    print(num + 5)"
   ]
  },
  {
   "cell_type": "markdown",
   "metadata": {},
   "source": [
    "#### Adds 5 to every number in a list of numbers"
   ]
  },
  {
   "cell_type": "code",
   "execution_count": null,
   "metadata": {},
   "outputs": [],
   "source": [
    "list_of_numbers = [2,4,5,3]\n",
    "for i in range(len(list_of_numbers)):\n",
    "    list_of_numbers[i] = list_of_numbers[i] + 5\n",
    "print(list_of_numbers)"
   ]
  },
  {
   "cell_type": "markdown",
   "metadata": {},
   "source": [
    "#### Problem E1\n",
    "\n",
    "Given a string s, iterate over all characters of s and only print those characters which are in uppercase.\n",
    "\n",
    "**Help**: `isupper` function of a string (of length 1) tells whether the character is uppercase or not. <br>\n",
    "e.g. `'a'.isupper()` gives `False`, while `'A'.isupper()` gives `True`.\n",
    "\n",
    "e.g. Given `'PyTHon'`, print:\n",
    "    \n",
    "    P\n",
    "    T\n",
    "    H"
   ]
  },
  {
   "cell_type": "code",
   "execution_count": null,
   "metadata": {},
   "outputs": [],
   "source": []
  },
  {
   "cell_type": "markdown",
   "metadata": {},
   "source": [
    "## While\n",
    "\n",
    "Used to execute a set of statements as long as a condition is true.\n",
    "\n",
    "Syntax:\n",
    "\n",
    "    while <some_condition>:\n",
    "        <some_commands_to_execute>"
   ]
  },
  {
   "cell_type": "markdown",
   "metadata": {},
   "source": [
    "#### Prints non-negative integers less than 10"
   ]
  },
  {
   "cell_type": "code",
   "execution_count": null,
   "metadata": {},
   "outputs": [],
   "source": [
    "num = 1\n",
    "while num < 10:\n",
    "    print(num)\n",
    "    num = num + 1"
   ]
  },
  {
   "cell_type": "markdown",
   "metadata": {},
   "source": [
    "#### Prints even positive integers greater than 49 but less than 100"
   ]
  },
  {
   "cell_type": "code",
   "execution_count": null,
   "metadata": {},
   "outputs": [],
   "source": [
    "num = 50\n",
    "while num < 100:\n",
    "    print(num)\n",
    "    num = num + 2"
   ]
  },
  {
   "cell_type": "markdown",
   "metadata": {},
   "source": [
    "#### Problem F1\n",
    "\n",
    "Given an integer n, which is a power of 2, keep halving it and printing it until it becomes 1.\n",
    "\n",
    "e.g. Given 64, print:\n",
    "\n",
    "    64\n",
    "    32\n",
    "    16\n",
    "    8\n",
    "    4\n",
    "    2\n",
    "    1"
   ]
  },
  {
   "cell_type": "code",
   "execution_count": null,
   "metadata": {},
   "outputs": [],
   "source": []
  },
  {
   "cell_type": "markdown",
   "metadata": {},
   "source": [
    "## Functions\n",
    "\n",
    "+ A function is a sequence of code lines which gets executed whenever the function is called.\n",
    "+ Each function has a unique name.\n",
    "+ A function can receive some input objects to work upon.\n",
    "+ A function can send an output object to provide calculation result.\n",
    "\n",
    "Syntax:\n",
    "\n",
    "    def function_name(param1, param2, param3):\n",
    "        <statements_to_execute>"
   ]
  },
  {
   "cell_type": "markdown",
   "metadata": {},
   "source": [
    "#### Example"
   ]
  },
  {
   "cell_type": "code",
   "execution_count": null,
   "metadata": {},
   "outputs": [],
   "source": [
    "def func():\n",
    "    print('These lines are')\n",
    "    print('a part of')\n",
    "    print('the function')\n",
    "    \n",
    "func()\n",
    "func()"
   ]
  },
  {
   "cell_type": "markdown",
   "metadata": {},
   "source": [
    "#### A function which adds two numbers"
   ]
  },
  {
   "cell_type": "code",
   "execution_count": null,
   "metadata": {},
   "outputs": [],
   "source": [
    "def add(x1, x2):\n",
    "    return x1+x2"
   ]
  },
  {
   "cell_type": "markdown",
   "metadata": {},
   "source": [
    "Now try these lines of codes in the code box below (**After you have executed the code box above containing the `add` function**):\n",
    "+ `add(3, 5)`\n",
    "+ `add(6.4, 7.2)`\n",
    "+ `add('abc', 'def')` ...(Since Python does not enforce data types on parameters, even this will work)"
   ]
  },
  {
   "cell_type": "code",
   "execution_count": null,
   "metadata": {},
   "outputs": [],
   "source": []
  },
  {
   "cell_type": "markdown",
   "metadata": {},
   "source": [
    "#### Problem G1\n",
    "\n",
    "A real number in scientific notation is expressed as M x 10E in Maths, where M is called mantissa and E is called exponent.\n",
    "\n",
    "e.g. 5500 = 5.5 x 103\n",
    "\n",
    "Write a function `f`which accepts a mantissa (float) and an exponent (int), and returns the actual number being expressed (float)."
   ]
  },
  {
   "cell_type": "markdown",
   "metadata": {},
   "source": [
    "## Modules\n",
    "\n",
    "+ A module is meaningful collection of a lot of source codes, ready to be used in your own source code.\n",
    "+ A module provides a lot of useful readymade functions and other objects.\n",
    "+ The Python Standard Library provides a lot of useful modules and is bundled as an official part of Python.\n",
    "+ Third-party modules can be downloaded from the internet and integrated with your own source code."
   ]
  },
  {
   "cell_type": "markdown",
   "metadata": {},
   "source": [
    "To use a module in a new source code file, it needs to imported into the new file:\n",
    "    \n",
    "    import module_name\n",
    "\n",
    "To use a function provided by a module:\n",
    "    \n",
    "    module_name.function_name()\n",
    "\n",
    "To use a variable provided by a module:\n",
    "    \n",
    "    module_name.variable_name"
   ]
  },
  {
   "cell_type": "code",
   "execution_count": null,
   "metadata": {},
   "outputs": [],
   "source": [
    "import math\n",
    "print(math.log2(256))\n",
    "print(math.pi)\n",
    "print(math.e)"
   ]
  },
  {
   "cell_type": "code",
   "execution_count": null,
   "metadata": {},
   "outputs": [],
   "source": [
    "import platform\n",
    "print(platform.system())\n",
    "print(platform.architecture())"
   ]
  },
  {
   "cell_type": "markdown",
   "metadata": {},
   "source": [
    "If you want to import only some specific functions of a module:\n",
    "    \n",
    "    from module_name import f1, f2, f3\n",
    "\n",
    "To use a function provided by a module:\n",
    "    \n",
    "    function_name()\n",
    "\n",
    "To use a variable provided by a module:\n",
    "    \n",
    "    variable_name\n",
    "\n",
    "You can also use this style of importing to use all the functions without needing to precede it with the name of the module:\n",
    "    \n",
    "    from module_name import *"
   ]
  },
  {
   "cell_type": "code",
   "execution_count": null,
   "metadata": {},
   "outputs": [],
   "source": [
    "from math import log2, pi, e\n",
    "print(log2(256))\n",
    "print(pi)\n",
    "print(e)"
   ]
  },
  {
   "cell_type": "code",
   "execution_count": null,
   "metadata": {},
   "outputs": [],
   "source": [
    "from platform import *\n",
    "print(system())\n",
    "print(architecture())"
   ]
  },
  {
   "cell_type": "markdown",
   "metadata": {},
   "source": [
    "## NumPy\n",
    "\n",
    "+ Open source third-party library\n",
    "+ Originally created by Travis Oliphant\n",
    "+ Large multi-dimensional arrays and matrices\n",
    "+ Fast numerical computation\n",
    "+ Convenient high-level functions\n",
    "+ API very similar to MATLAB"
   ]
  },
  {
   "cell_type": "markdown",
   "metadata": {},
   "source": [
    "#### Popular way to import:\n",
    "    \n",
    "    import numpy as np"
   ]
  },
  {
   "cell_type": "code",
   "execution_count": null,
   "metadata": {},
   "outputs": [],
   "source": [
    "import numpy as np"
   ]
  },
  {
   "cell_type": "markdown",
   "metadata": {},
   "source": [
    "## NumPy Arrays\n",
    "\n",
    "+ Number of contained items can NOT be changed after the array is created.\n",
    "+ All the items in the array must of the same data type.\n",
    "+ One item in the array at a specific index can be replaced by another item of the same data type."
   ]
  },
  {
   "cell_type": "markdown",
   "metadata": {},
   "source": [
    "#### Creating an array Using Python’s Lists:"
   ]
  },
  {
   "cell_type": "code",
   "execution_count": null,
   "metadata": {},
   "outputs": [],
   "source": [
    "np.array([1, 2, 3])"
   ]
  },
  {
   "cell_type": "markdown",
   "metadata": {},
   "source": [
    "#### Creating an array Using Python’s Lists for multi-dimensional:"
   ]
  },
  {
   "cell_type": "code",
   "execution_count": null,
   "metadata": {},
   "outputs": [],
   "source": [
    "np.array([[1,2], [4,5], [7,8]])"
   ]
  },
  {
   "cell_type": "markdown",
   "metadata": {},
   "source": [
    "#### Creating an array Using NumPy’s arange (similar to Python’s range()):"
   ]
  },
  {
   "cell_type": "code",
   "execution_count": null,
   "metadata": {},
   "outputs": [],
   "source": [
    "np.arange(10)"
   ]
  },
  {
   "cell_type": "code",
   "execution_count": null,
   "metadata": {},
   "outputs": [],
   "source": [
    "np.arange(10, 100, 5)"
   ]
  },
  {
   "cell_type": "markdown",
   "metadata": {},
   "source": [
    "#### Getting the shape of an array:\n",
    "    \n",
    "    myarray.shape"
   ]
  },
  {
   "cell_type": "code",
   "execution_count": null,
   "metadata": {},
   "outputs": [],
   "source": [
    "a = np.array([[2,3],[4,5],[7,8]])\n",
    "print(a.shape)"
   ]
  },
  {
   "cell_type": "code",
   "execution_count": null,
   "metadata": {},
   "outputs": [],
   "source": [
    "a = np.ones((4,3,2))\n",
    "# print(a)\n",
    "print(a.shape)"
   ]
  },
  {
   "cell_type": "markdown",
   "metadata": {},
   "source": [
    "#### Changing the shape of an array:\n",
    "    \n",
    "    new_array = myarray.reshape(x,y,z,...)"
   ]
  },
  {
   "cell_type": "code",
   "execution_count": null,
   "metadata": {},
   "outputs": [],
   "source": [
    "a = np.arange(12)  # a vector\n",
    "print(a)\n",
    "print()\n",
    "\n",
    "a = a.reshape(3,4)  # a matrix\n",
    "print(a)\n",
    "print()\n",
    "\n",
    "a = a.reshape(2,6)  # a matrix\n",
    "print(a)"
   ]
  },
  {
   "cell_type": "markdown",
   "metadata": {},
   "source": [
    "## NumPy Arithmetics\n",
    "\n",
    "Adding two arrays:\n",
    "\n",
    "    new_array = array1 + array2\n",
    "\n",
    "Subtracting one array from another:\n",
    "\n",
    "    new_array = array1 – array2\n",
    "\n",
    "Adding a constant scalar to every number in an array:\n",
    "\n",
    "    new_array = array1 + 5\n",
    "\n",
    "Subtracting a constant scalar from every number in an array:\n",
    "\n",
    "    new_array = array1 - 5\n",
    "    \n",
    "Multiplying every number in one array by every corresponding number at same position in another array:\n",
    "\n",
    "    new_array = array1 * array2\n",
    "\n",
    "Dot Product of two vectors:\n",
    "\n",
    "    new_vec = vec1.dot(vec2)\n",
    "\n",
    "Dot Product of two matrices:\n",
    "\n",
    "    new_matrix = matrix1.dot(matrix2)"
   ]
  },
  {
   "cell_type": "markdown",
   "metadata": {},
   "source": [
    "## Numpy Indexing\n",
    "\n",
    "Just like lists, by using `[]` operator. Here, `,` is used for multi-dimensional indexing."
   ]
  },
  {
   "cell_type": "code",
   "execution_count": null,
   "metadata": {},
   "outputs": [],
   "source": [
    "matrix = np.arange(12).reshape(3,4)\n",
    "print(matrix)\n",
    "print()\n",
    "\n",
    "print(matrix[0,0])\n",
    "print()\n",
    "print(matrix[2,3])\n",
    "print()\n",
    "print(matrix[1:2,2:4])\n",
    "print()\n",
    "print(matrix[1,:])"
   ]
  },
  {
   "cell_type": "markdown",
   "metadata": {},
   "source": [
    "## The End\n",
    "\n",
    "Fin."
   ]
  },
  {
   "cell_type": "code",
   "execution_count": null,
   "metadata": {},
   "outputs": [],
   "source": []
  }
 ],
 "metadata": {
  "kernelspec": {
   "display_name": "Python 3",
   "language": "python",
   "name": "python3"
  },
  "language_info": {
   "codemirror_mode": {
    "name": "ipython",
    "version": 3
   },
   "file_extension": ".py",
   "mimetype": "text/x-python",
   "name": "python",
   "nbconvert_exporter": "python",
   "pygments_lexer": "ipython3",
   "version": "3.6.7"
  }
 },
 "nbformat": 4,
 "nbformat_minor": 2
}
